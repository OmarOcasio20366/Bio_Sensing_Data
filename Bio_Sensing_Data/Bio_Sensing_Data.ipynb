{
 "cells": [
  {
   "cell_type": "markdown",
   "metadata": {},
   "source": [
    "***Jazz Frogs Present***\n",
    "\n",
    "**Bio-Sensing Data**\n",
    "\n",
    "*Annaclaire Kepple, Quynhmai Tran, Sasmita Mohapatra*\n",
    "*Omar A. Ocasio Ortiz, Vladimir Deriglazov*\n",
    "Stephen Pearsall, Zachary Schweibinz,\n",
    "*Jonathan Sasser, Alex Gutierrez-Diaz*\n",
    "\n"
   ]
  },
  {
   "cell_type": "code",
   "execution_count": 27,
   "metadata": {},
   "outputs": [],
   "source": [
    "# Importing Libraries \n",
    "import pandas as pd\n",
    "import numpy as np \n",
    "import matplotlib.pyplot as plt \n"
   ]
  },
  {
   "cell_type": "code",
   "execution_count": 28,
   "metadata": {},
   "outputs": [],
   "source": [
    "# Calling the bio-sensing data \n",
    "data1 = pd.read_csv('Bunty-20221012.csv', usecols = ['Time', 'Temp', 'Hum', 'Press', 'Alt'])\n",
    "data2 = pd.read_csv('bunty-20221013.csv', usecols = ['Time', 'Temp', 'Hum', 'Press', 'Alt'])\n",
    "data3 = pd.read_csv('bunty-20221014.csv', usecols = ['Time', 'Temp', 'Hum', 'Press', 'Alt'])\n",
    "data4 = pd.read_csv('bunty-20221015.csv', usecols = ['Time', 'Temp', 'Hum', 'Press', 'Alt'])\n",
    "data5 = pd.read_csv('bunty-20221023.csv', usecols = ['Time', 'Temp', 'Hum', 'Press', 'Alt'])\n",
    "data6 = pd.read_csv('bunty-20221024.csv', usecols = ['Time', 'Temp', 'Hum', 'Press', 'Alt'])\n",
    "data7 = pd.read_csv('bunty-20221031.csv', usecols = ['Time', 'Temp', 'Hum', 'Press', 'Alt'])\n",
    "data8 = pd.read_csv('heron-20221025.csv', usecols = ['Time', 'Temp', 'Hum', 'Press', 'Alt'])\n",
    "data9 = pd.read_csv('heron-20221027.csv', usecols = ['Time', 'Temp', 'Hum', 'Press', 'Alt'])\n",
    "data10 = pd.read_csv('heron-20221028.csv', usecols = ['Time', 'Temp', 'Hum', 'Press', 'Alt'])\n",
    "data11 = pd.read_csv('heron-20221031.csv', usecols = ['Time', 'Temp', 'Hum', 'Press', 'Alt'])\n",
    "data12 = pd.read_csv('heron-20221101.csv', usecols = ['Time', 'Temp', 'Hum', 'Press', 'Alt'])"
   ]
  },
  {
   "cell_type": "code",
   "execution_count": 43,
   "metadata": {},
   "outputs": [],
   "source": [
    "# Plotting All the Data \n",
    "def plotting(data):\n",
    "\n",
    "    ax1 = data.plot(x = 'Time' , y = 'Temp', kind = 'scatter')\n",
    "    bx1 = data.plot(x = 'Time' , y = 'Hum', kind = 'scatter')\n",
    "    cx1 = data.plot(x = 'Time' , y = 'Press', kind = 'scatter')\n",
    "    dx1 = data.plot(x = 'Time' , y = 'Alt', kind = 'scatter')\n",
    "\n",
    "# To view the plots call the function by doing: plotting(data1)\n"
   ]
  },
  {
   "cell_type": "code",
   "execution_count": 69,
   "metadata": {},
   "outputs": [],
   "source": [
    "# Data Frames to Visualize Temp, Hum, Press & Alt with  the time it was taken at \n",
    "def TempDataFrame(data):\n",
    "    \n",
    "    df = pd.DataFrame(data)\n",
    "    df_arr = np.array([df['Time'], df['Temp']])\n",
    "    print('Time and Temperature: \\n', df_arr)\n",
    "\n",
    "def HumDataFrame(data):\n",
    "    \n",
    "    df = pd.DataFrame(data)\n",
    "    df_arr = np.array([df['Time'], df['Hum']])\n",
    "    print('Time and Temperature: \\n', df_arr)\n",
    "    \n",
    "def PressDataFrame(data):\n",
    "    \n",
    "    df = pd.DataFrame(data)\n",
    "    df_arr = np.array([df['Time'], df['Press']])\n",
    "    print('Time and Temperature: \\n', df_arr)\n",
    "    \n",
    "def AltDataFrame(data): \n",
    "    \n",
    "    df = pd.DataFrame(data)\n",
    "    df_arr = np.array([df['Time'], df['Alt']])\n",
    "    print('Time and Temperature: \\n', df_arr)"
   ]
  },
  {
   "cell_type": "code",
   "execution_count": 71,
   "metadata": {},
   "outputs": [
    {
     "name": "stdout",
     "output_type": "stream",
     "text": [
      "Time and Temperature: \n",
      " [['19:49:03' '19:50:02' '19:51:03' '19:52:02' '19:53:03' '19:54:02'\n",
      "  '19:55:03' '19:56:02' '19:57:03' '19:58:02' '19:59:03' '20:00:02'\n",
      "  '20:01:03' '20:02:02' '20:03:03' '20:04:02' '20:05:03' '20:06:02'\n",
      "  '20:07:02' '20:08:02' '20:09:02' '20:10:03' '20:11:02' '20:12:03'\n",
      "  '20:13:02' '20:14:03' '20:15:02' '20:16:03' '20:17:02' '20:18:03'\n",
      "  '20:19:02' '20:20:03' '20:21:02' '20:22:03' '20:23:02' '20:24:02'\n",
      "  '20:25:02' '20:26:02' '20:27:03' '20:28:02' '20:29:03' '20:30:02'\n",
      "  '20:31:03' '20:32:02' '20:33:03' '20:34:02' '20:35:38' '20:36:02'\n",
      "  '20:37:03' '20:38:02' '20:39:03' '20:40:02' '20:41:03' '20:43:58'\n",
      "  '20:44:03' '20:45:02' '20:46:03' '20:47:02' '20:48:02' '20:49:02'\n",
      "  '20:50:02' '20:51:03' '20:52:02' '20:53:03' '20:54:02' '20:55:03'\n",
      "  '20:56:02' '20:57:03' '20:58:02' '20:59:03' '21:00:02' '21:01:02'\n",
      "  '21:02:03' '21:03:02' '21:04:03' '21:05:02' '21:06:03' '21:07:02'\n",
      "  '21:08:03' '21:09:02' '21:10:03' '21:11:02' '21:12:02' '21:13:03'\n",
      "  '21:14:02' '21:15:03' '21:16:02' '21:17:03' '21:18:02' '21:19:03'\n",
      "  '21:20:02' '21:21:02' '21:22:02' '21:23:02' '21:24:03' '21:25:02'\n",
      "  '21:26:03' '21:27:02' '21:28:03' '21:29:02' '21:30:03' '21:31:02'\n",
      "  '21:32:03' '21:33:02' '21:34:03' '21:35:02' '21:36:03' '21:37:02'\n",
      "  '21:38:03' '21:39:02' '21:40:02' '21:41:03' '21:42:02' '21:43:03'\n",
      "  '21:44:02' '21:45:03' '21:46:02' '21:47:03' '21:48:02' '21:49:03'\n",
      "  '21:50:02' '21:51:03' '21:52:02' '21:54:02' '21:55:03' '21:56:02'\n",
      "  '21:57:03' '21:58:02' '21:59:03' '22:00:02' '22:01:03' '22:02:02'\n",
      "  '22:03:03' '22:04:02' '22:05:02' '22:06:02' '22:07:02' '22:08:03'\n",
      "  '22:09:02' '22:10:03' '22:11:02' '22:12:03' '22:13:02' '22:14:03'\n",
      "  '22:15:02' '22:16:03' '22:17:02' '22:18:02' '22:19:03' '22:20:02'\n",
      "  '22:21:03' '22:22:02' '22:23:03' '22:24:02' '22:25:03' '22:26:02'\n",
      "  '22:27:03' '22:28:02' '22:29:03' '22:30:02' '22:31:02' '22:32:03'\n",
      "  '22:33:02' '22:34:03' '22:35:02' '22:37:02' '22:38:02' '22:39:02'\n",
      "  '22:40:03' '22:41:02' '22:42:03' '22:43:02' '22:44:03' '22:45:02'\n",
      "  '22:46:03' '22:47:02' '22:48:03' '22:49:02' '22:50:03' '22:51:02'\n",
      "  '22:52:02' '22:53:02' '22:54:02' '22:55:03' '22:56:02' '22:57:03'\n",
      "  '22:58:02' '22:59:03' '23:00:02' '23:01:03' '23:02:02' '23:03:03'\n",
      "  '23:04:02' '23:05:03' '23:06:02' '23:07:02' '23:08:03' '23:09:02'\n",
      "  '23:10:03' '23:11:02' '23:12:03' '23:13:02' '23:14:03' '23:15:02'\n",
      "  '23:16:02' '23:17:02' '23:18:02' '23:19:02' '23:20:02' '23:21:03'\n",
      "  '23:22:02' '23:23:03' '23:24:02' '23:25:03' '23:26:02' '23:27:03'\n",
      "  '23:28:02' '23:29:03' '23:30:02' '23:31:02' '23:32:03' '23:33:02'\n",
      "  '23:34:03' '23:35:02' '23:36:03' '23:37:02' '23:38:02' '23:39:02'\n",
      "  '23:40:02' '23:41:03' '23:42:02' '23:43:03' '23:44:02' '23:45:03'\n",
      "  '23:46:02' '23:47:03' '23:49:03' '23:50:02' '23:51:02' '23:52:03'\n",
      "  '23:53:02' '23:54:03' '23:55:02' '23:56:03' '23:57:02' '23:58:02'\n",
      "  '23:59:02']\n",
      " [23.9763671875 23.9814453125 23.9763671875 24.026953125 24.03203125\n",
      "  24.016796875 24.047265625 24.026953125 24.05234375 24.026953125\n",
      "  24.006640625 24.021875 24.03203125 24.0421875 23.9865234375\n",
      "  23.9865234375 24.0017578125 23.951171875 23.951171875 23.951171875\n",
      "  23.9359375 23.9056640625 23.915625 23.92578125 23.915625 23.915625\n",
      "  23.9005859375 23.8751953125 23.8802734375 23.8599609375 23.9056640625\n",
      "  23.8701171875 23.8802734375 23.8650390625 23.8599609375 23.8751953125\n",
      "  23.8599609375 23.85 23.83984375 23.8650390625 23.8955078125\n",
      "  23.8802734375 23.8955078125 23.9560546875 23.9712890625 23.9865234375\n",
      "  24.0623046875 24.0927734375 24.0673828125 24.123046875 24.219140625\n",
      "  24.2494140625 24.229296875 24.112890625 24.102734375 24.1078125\n",
      "  24.026953125 23.9966796875 23.951171875 23.92578125 23.915625\n",
      "  23.8650390625 23.8296875 23.81953125 23.7892578125 23.75390625\n",
      "  23.738671875 23.7033203125 23.6931640625 23.6982421875 23.6830078125\n",
      "  23.7083984375 23.6931640625 23.6779296875 23.6072265625 23.5666015625\n",
      "  23.546484375 23.5767578125 23.56171875 23.5970703125 23.6072265625\n",
      "  23.622265625 23.5818359375 23.5767578125 23.546484375 23.54140625\n",
      "  23.536328125 23.546484375 23.5515625 23.526171875 23.5009765625\n",
      "  23.5009765625 23.4806640625 23.4755859375 23.425 23.460546875\n",
      "  23.460546875 23.4857421875 23.4705078125 23.4857421875 23.4453125\n",
      "  23.4857421875 23.4705078125 23.4705078125 23.4755859375 23.4908203125\n",
      "  23.450390625 23.43515625 23.430078125 23.4857421875 23.4908203125\n",
      "  23.460546875 23.4755859375 23.465625 23.450390625 23.440234375\n",
      "  23.460546875 23.4755859375 23.4755859375 23.4806640625 23.450390625\n",
      "  23.4150390625 23.3845703125 23.2884765625 23.2732421875 23.2732421875\n",
      "  23.2833984375 23.359375 23.344140625 23.3744140625 23.3794921875\n",
      "  23.344140625 23.354296875 23.34921875 23.4150390625 23.4048828125\n",
      "  23.3896484375 23.364453125 23.3693359375 23.344140625 23.364453125\n",
      "  23.32890625 23.34921875 23.354296875 23.3896484375 23.3998046875\n",
      "  23.3744140625 23.4099609375 23.3896484375 23.3744140625 23.3845703125\n",
      "  23.3998046875 23.3693359375 23.3138671875 23.3189453125 23.3138671875\n",
      "  23.3390625 23.344140625 23.3390625 23.2935546875 23.2833984375\n",
      "  23.2935546875 23.2732421875 23.3087890625 23.2935546875 23.2833984375\n",
      "  23.2935546875 23.2935546875 23.2884765625 23.2783203125 23.2884765625\n",
      "  23.26328125 23.258203125 23.268359375 23.26328125 23.2783203125\n",
      "  23.268359375 23.24296875 23.2783203125 23.2986328125 23.2884765625\n",
      "  23.32890625 23.3189453125 23.3138671875 23.3037109375 23.3087890625\n",
      "  23.333984375 23.34921875 23.359375 23.323828125 23.3138671875\n",
      "  23.3087890625 23.3087890625 23.32890625 23.323828125 23.333984375\n",
      "  23.3037109375 23.2884765625 23.3037109375 23.26328125 23.2732421875\n",
      "  23.2328125 23.248046875 23.2884765625 23.2783203125 23.2935546875\n",
      "  23.26328125 23.2783203125 23.2833984375 23.3037109375 23.3138671875\n",
      "  23.2935546875 23.268359375 23.258203125 23.2732421875 23.2732421875\n",
      "  23.2732421875 23.227734375 23.253125 23.2884765625 23.2783203125\n",
      "  23.248046875 23.258203125 23.2328125 23.2328125 23.248046875\n",
      "  23.227734375 23.22265625 23.24296875 23.227734375 23.24296875\n",
      "  23.2328125 23.26328125 23.2732421875 23.268359375 23.22265625\n",
      "  23.1974609375 23.172265625 23.1974609375 23.1873046875 23.2177734375\n",
      "  23.22265625 23.253125 23.2126953125 23.2177734375 23.1974609375\n",
      "  23.1873046875]]\n"
     ]
    },
    {
     "ename": "TypeError",
     "evalue": "object of type 'NoneType' has no len()",
     "output_type": "error",
     "traceback": [
      "\u001b[0;31m---------------------------------------------------------------------------\u001b[0m",
      "\u001b[0;31mTypeError\u001b[0m                                 Traceback (most recent call last)",
      "\u001b[0;32m/var/folders/hj/njnq37zs5pq6bwzd0g682bgr0000gn/T/ipykernel_14423/889327598.py\u001b[0m in \u001b[0;36m<module>\u001b[0;34m\u001b[0m\n\u001b[1;32m      3\u001b[0m \u001b[0mplt\u001b[0m\u001b[0;34m.\u001b[0m\u001b[0mylabel\u001b[0m\u001b[0;34m(\u001b[0m\u001b[0;34m'Temp'\u001b[0m\u001b[0;34m)\u001b[0m\u001b[0;34m\u001b[0m\u001b[0;34m\u001b[0m\u001b[0m\n\u001b[1;32m      4\u001b[0m \u001b[0mplt\u001b[0m\u001b[0;34m.\u001b[0m\u001b[0mtitle\u001b[0m\u001b[0;34m(\u001b[0m\u001b[0;34m'Temperature'\u001b[0m\u001b[0;34m)\u001b[0m\u001b[0;34m\u001b[0m\u001b[0;34m\u001b[0m\u001b[0m\n\u001b[0;32m----> 5\u001b[0;31m \u001b[0mplt\u001b[0m\u001b[0;34m.\u001b[0m\u001b[0mhist\u001b[0m\u001b[0;34m(\u001b[0m\u001b[0mTempDataFrame\u001b[0m\u001b[0;34m(\u001b[0m\u001b[0mdata1\u001b[0m\u001b[0;34m)\u001b[0m\u001b[0;34m,\u001b[0m \u001b[0mbins\u001b[0m \u001b[0;34m=\u001b[0m \u001b[0;36m20\u001b[0m\u001b[0;34m,\u001b[0m \u001b[0mcolor\u001b[0m \u001b[0;34m=\u001b[0m \u001b[0;34m'white'\u001b[0m\u001b[0;34m,\u001b[0m \u001b[0mec\u001b[0m \u001b[0;34m=\u001b[0m \u001b[0;34m'black'\u001b[0m\u001b[0;34m)\u001b[0m\u001b[0;34m\u001b[0m\u001b[0;34m\u001b[0m\u001b[0m\n\u001b[0m",
      "\u001b[0;32m~/opt/anaconda3/lib/python3.9/site-packages/matplotlib/pyplot.py\u001b[0m in \u001b[0;36mhist\u001b[0;34m(x, bins, range, density, weights, cumulative, bottom, histtype, align, orientation, rwidth, log, color, label, stacked, data, **kwargs)\u001b[0m\n\u001b[1;32m   2851\u001b[0m         \u001b[0morientation\u001b[0m\u001b[0;34m=\u001b[0m\u001b[0;34m'vertical'\u001b[0m\u001b[0;34m,\u001b[0m \u001b[0mrwidth\u001b[0m\u001b[0;34m=\u001b[0m\u001b[0;32mNone\u001b[0m\u001b[0;34m,\u001b[0m \u001b[0mlog\u001b[0m\u001b[0;34m=\u001b[0m\u001b[0;32mFalse\u001b[0m\u001b[0;34m,\u001b[0m \u001b[0mcolor\u001b[0m\u001b[0;34m=\u001b[0m\u001b[0;32mNone\u001b[0m\u001b[0;34m,\u001b[0m\u001b[0;34m\u001b[0m\u001b[0;34m\u001b[0m\u001b[0m\n\u001b[1;32m   2852\u001b[0m         label=None, stacked=False, *, data=None, **kwargs):\n\u001b[0;32m-> 2853\u001b[0;31m     return gca().hist(\n\u001b[0m\u001b[1;32m   2854\u001b[0m         \u001b[0mx\u001b[0m\u001b[0;34m,\u001b[0m \u001b[0mbins\u001b[0m\u001b[0;34m=\u001b[0m\u001b[0mbins\u001b[0m\u001b[0;34m,\u001b[0m \u001b[0mrange\u001b[0m\u001b[0;34m=\u001b[0m\u001b[0mrange\u001b[0m\u001b[0;34m,\u001b[0m \u001b[0mdensity\u001b[0m\u001b[0;34m=\u001b[0m\u001b[0mdensity\u001b[0m\u001b[0;34m,\u001b[0m \u001b[0mweights\u001b[0m\u001b[0;34m=\u001b[0m\u001b[0mweights\u001b[0m\u001b[0;34m,\u001b[0m\u001b[0;34m\u001b[0m\u001b[0;34m\u001b[0m\u001b[0m\n\u001b[1;32m   2855\u001b[0m         \u001b[0mcumulative\u001b[0m\u001b[0;34m=\u001b[0m\u001b[0mcumulative\u001b[0m\u001b[0;34m,\u001b[0m \u001b[0mbottom\u001b[0m\u001b[0;34m=\u001b[0m\u001b[0mbottom\u001b[0m\u001b[0;34m,\u001b[0m \u001b[0mhisttype\u001b[0m\u001b[0;34m=\u001b[0m\u001b[0mhisttype\u001b[0m\u001b[0;34m,\u001b[0m\u001b[0;34m\u001b[0m\u001b[0;34m\u001b[0m\u001b[0m\n",
      "\u001b[0;32m~/opt/anaconda3/lib/python3.9/site-packages/matplotlib/__init__.py\u001b[0m in \u001b[0;36minner\u001b[0;34m(ax, data, *args, **kwargs)\u001b[0m\n\u001b[1;32m   1359\u001b[0m     \u001b[0;32mdef\u001b[0m \u001b[0minner\u001b[0m\u001b[0;34m(\u001b[0m\u001b[0max\u001b[0m\u001b[0;34m,\u001b[0m \u001b[0;34m*\u001b[0m\u001b[0margs\u001b[0m\u001b[0;34m,\u001b[0m \u001b[0mdata\u001b[0m\u001b[0;34m=\u001b[0m\u001b[0;32mNone\u001b[0m\u001b[0;34m,\u001b[0m \u001b[0;34m**\u001b[0m\u001b[0mkwargs\u001b[0m\u001b[0;34m)\u001b[0m\u001b[0;34m:\u001b[0m\u001b[0;34m\u001b[0m\u001b[0;34m\u001b[0m\u001b[0m\n\u001b[1;32m   1360\u001b[0m         \u001b[0;32mif\u001b[0m \u001b[0mdata\u001b[0m \u001b[0;32mis\u001b[0m \u001b[0;32mNone\u001b[0m\u001b[0;34m:\u001b[0m\u001b[0;34m\u001b[0m\u001b[0;34m\u001b[0m\u001b[0m\n\u001b[0;32m-> 1361\u001b[0;31m             \u001b[0;32mreturn\u001b[0m \u001b[0mfunc\u001b[0m\u001b[0;34m(\u001b[0m\u001b[0max\u001b[0m\u001b[0;34m,\u001b[0m \u001b[0;34m*\u001b[0m\u001b[0mmap\u001b[0m\u001b[0;34m(\u001b[0m\u001b[0msanitize_sequence\u001b[0m\u001b[0;34m,\u001b[0m \u001b[0margs\u001b[0m\u001b[0;34m)\u001b[0m\u001b[0;34m,\u001b[0m \u001b[0;34m**\u001b[0m\u001b[0mkwargs\u001b[0m\u001b[0;34m)\u001b[0m\u001b[0;34m\u001b[0m\u001b[0;34m\u001b[0m\u001b[0m\n\u001b[0m\u001b[1;32m   1362\u001b[0m \u001b[0;34m\u001b[0m\u001b[0m\n\u001b[1;32m   1363\u001b[0m         \u001b[0mbound\u001b[0m \u001b[0;34m=\u001b[0m \u001b[0mnew_sig\u001b[0m\u001b[0;34m.\u001b[0m\u001b[0mbind\u001b[0m\u001b[0;34m(\u001b[0m\u001b[0max\u001b[0m\u001b[0;34m,\u001b[0m \u001b[0;34m*\u001b[0m\u001b[0margs\u001b[0m\u001b[0;34m,\u001b[0m \u001b[0;34m**\u001b[0m\u001b[0mkwargs\u001b[0m\u001b[0;34m)\u001b[0m\u001b[0;34m\u001b[0m\u001b[0;34m\u001b[0m\u001b[0m\n",
      "\u001b[0;32m~/opt/anaconda3/lib/python3.9/site-packages/matplotlib/axes/_axes.py\u001b[0m in \u001b[0;36mhist\u001b[0;34m(self, x, bins, range, density, weights, cumulative, bottom, histtype, align, orientation, rwidth, log, color, label, stacked, **kwargs)\u001b[0m\n\u001b[1;32m   6670\u001b[0m \u001b[0;34m\u001b[0m\u001b[0m\n\u001b[1;32m   6671\u001b[0m         \u001b[0;31m# Massage 'x' for processing.\u001b[0m\u001b[0;34m\u001b[0m\u001b[0;34m\u001b[0m\u001b[0m\n\u001b[0;32m-> 6672\u001b[0;31m         \u001b[0mx\u001b[0m \u001b[0;34m=\u001b[0m \u001b[0mcbook\u001b[0m\u001b[0;34m.\u001b[0m\u001b[0m_reshape_2D\u001b[0m\u001b[0;34m(\u001b[0m\u001b[0mx\u001b[0m\u001b[0;34m,\u001b[0m \u001b[0;34m'x'\u001b[0m\u001b[0;34m)\u001b[0m\u001b[0;34m\u001b[0m\u001b[0;34m\u001b[0m\u001b[0m\n\u001b[0m\u001b[1;32m   6673\u001b[0m         \u001b[0mnx\u001b[0m \u001b[0;34m=\u001b[0m \u001b[0mlen\u001b[0m\u001b[0;34m(\u001b[0m\u001b[0mx\u001b[0m\u001b[0;34m)\u001b[0m  \u001b[0;31m# number of datasets\u001b[0m\u001b[0;34m\u001b[0m\u001b[0;34m\u001b[0m\u001b[0m\n\u001b[1;32m   6674\u001b[0m \u001b[0;34m\u001b[0m\u001b[0m\n",
      "\u001b[0;32m~/opt/anaconda3/lib/python3.9/site-packages/matplotlib/cbook/__init__.py\u001b[0m in \u001b[0;36m_reshape_2D\u001b[0;34m(X, name)\u001b[0m\n\u001b[1;32m   1417\u001b[0m \u001b[0;34m\u001b[0m\u001b[0m\n\u001b[1;32m   1418\u001b[0m     \u001b[0;31m# Iterate over list of iterables.\u001b[0m\u001b[0;34m\u001b[0m\u001b[0;34m\u001b[0m\u001b[0m\n\u001b[0;32m-> 1419\u001b[0;31m     \u001b[0;32mif\u001b[0m \u001b[0mlen\u001b[0m\u001b[0;34m(\u001b[0m\u001b[0mX\u001b[0m\u001b[0;34m)\u001b[0m \u001b[0;34m==\u001b[0m \u001b[0;36m0\u001b[0m\u001b[0;34m:\u001b[0m\u001b[0;34m\u001b[0m\u001b[0;34m\u001b[0m\u001b[0m\n\u001b[0m\u001b[1;32m   1420\u001b[0m         \u001b[0;32mreturn\u001b[0m \u001b[0;34m[\u001b[0m\u001b[0;34m[\u001b[0m\u001b[0;34m]\u001b[0m\u001b[0;34m]\u001b[0m\u001b[0;34m\u001b[0m\u001b[0;34m\u001b[0m\u001b[0m\n\u001b[1;32m   1421\u001b[0m \u001b[0;34m\u001b[0m\u001b[0m\n",
      "\u001b[0;31mTypeError\u001b[0m: object of type 'NoneType' has no len()"
     ]
    },
    {
     "data": {
      "image/png": "[encoded data removed]",
      "text/plain": [
       "<Figure size 432x288 with 1 Axes>"
      ]
     },
     "metadata": {
      "needs_background": "light"
     },
     "output_type": "display_data"
    }
   ],
   "source": [
    "# Plotting Temp, Hum, Press & Alt with the time \n",
    "plt.xlabel('Time')\n",
    "plt.ylabel('Temp')\n",
    "plt.title('Temperature')\n",
    "plt.hist(TempDataFrame(data1), bins = 20, color = 'white', ec = 'black')"
   ]
  }
 ],
 "metadata": {
  "interpreter": {
   "hash": "85a2ab5b31120864ad6fa136de154f2fc7395ce0f3e870350dbbafa4e5560b11"
  },
  "kernelspec": {
   "display_name": "Python 3.9.7 ('base')",
   "language": "python",
   "name": "python3"
  },
  "language_info": {
   "codemirror_mode": {
    "name": "ipython",
    "version": 3
   },
   "file_extension": ".py",
   "mimetype": "text/x-python",
   "name": "python",
   "nbconvert_exporter": "python",
   "pygments_lexer": "ipython3",
   "version": "3.9.7"
  },
  "orig_nbformat": 4
 },
 "nbformat": 4,
 "nbformat_minor": 2
}
